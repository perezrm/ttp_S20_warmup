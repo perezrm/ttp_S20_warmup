{
 "cells": [
  {
   "cell_type": "code",
   "execution_count": 1,
   "metadata": {},
   "outputs": [
    {
     "name": "stdout",
     "output_type": "stream",
     "text": [
      "15\n"
     ]
    }
   ],
   "source": [
    "# 1 - use the len function to add up sum the total number of characters in all the \n",
    "#words together in the following list\n",
    "\n",
    "still_words = ['1','22','333','4444','55555']\n",
    "total = 0\n",
    "for word in still_words:\n",
    "    total += len(word)\n",
    "print(total)"
   ]
  },
  {
   "cell_type": "code",
   "execution_count": 2,
   "metadata": {},
   "outputs": [
    {
     "data": {
      "text/plain": [
       "60355"
      ]
     },
     "execution_count": 2,
     "metadata": {},
     "output_type": "execute_result"
    }
   ],
   "source": [
    "# 2 - get the numeric values of the list items (eg. the value of '22' is 22), \n",
    "# and print the sum.\n",
    "\n",
    "still_words = ['1','22','333','4444','55555']\n",
    "int_still_words = []\n",
    "\n",
    "for x in still_words:\n",
    "    int_still_words.append(int(x))\n",
    "\n",
    "sum(int_still_words)\n"
   ]
  },
  {
   "cell_type": "code",
   "execution_count": 3,
   "metadata": {},
   "outputs": [
    {
     "name": "stdout",
     "output_type": "stream",
     "text": [
      "['one', 'two', 'three', 'four', 'five']\n"
     ]
    }
   ],
   "source": [
    "# 3 - How do you fix the typo in this list, without rewriting the whole list?\n",
    "\n",
    "words = ['one','two','three','for','five'] # 0,1,2,3,4 fourth position called\n",
    "\n",
    "words[3] = 'four'\n",
    "\n",
    "print(words)"
   ]
  },
  {
   "cell_type": "code",
   "execution_count": null,
   "metadata": {},
   "outputs": [],
   "source": []
  }
 ],
 "metadata": {
  "kernelspec": {
   "display_name": "Python 3",
   "language": "python",
   "name": "python3"
  },
  "language_info": {
   "codemirror_mode": {
    "name": "ipython",
    "version": 3
   },
   "file_extension": ".py",
   "mimetype": "text/x-python",
   "name": "python",
   "nbconvert_exporter": "python",
   "pygments_lexer": "ipython3",
   "version": "3.7.3"
  }
 },
 "nbformat": 4,
 "nbformat_minor": 2
}
